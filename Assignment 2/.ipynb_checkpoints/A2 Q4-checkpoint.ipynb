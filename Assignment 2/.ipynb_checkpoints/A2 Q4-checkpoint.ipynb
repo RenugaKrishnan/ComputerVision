{
 "cells": [
  {
   "cell_type": "code",
   "execution_count": 8,
   "id": "bff1cd3b-910c-4490-a894-1a4f1f213b30",
   "metadata": {},
   "outputs": [
    {
     "data": {
      "text/plain": [
       "True"
      ]
     },
     "execution_count": 8,
     "metadata": {},
     "output_type": "execute_result"
    }
   ],
   "source": [
    "from flask import Flask, render_template, request\n",
    "import cv2\n",
    "import numpy as np\n",
    "import matplotlib.pyplot as plt\n",
    "import os\n",
    "\n",
    "app = Flask(__name__)\n",
    "\n",
    "@app.route('/')\n",
    "def index():\n",
    "    return render_template('index.html')\n",
    "\n",
    "@app.route('/calculate_integral_image', methods=['POST'])\n",
    "def calculate_integral_image():\n",
    "    # Load the video\n",
    "    video_path = \"SampleVideo.mp4\"\n",
    "    if not os.path.exists(video_path):\n",
    "        return render_template('error.html', message=\"Video file not found\")\n",
    "\n",
    "    cap = cv2.VideoCapture(video_path)\n",
    "    if not cap.isOpened():\n",
    "        return render_template('error.html', message=\"Unable to open video file\")\n",
    "\n",
    "    # Read the first frame from the video\n",
    "    ret, frame = cap.read()\n",
    "    if not ret:\n",
    "        return render_template('error.html', message=\"Unable to read frame from video\")\n",
    "\n",
    "    gray_clr = cv2.cvtColor(frame, cv2.COLOR_BGR2GRAY)\n",
    "    height, width = gray_clr.shape\n",
    "\n",
    "    integral_image = np.zeros((height, width))\n",
    "\n",
    "    for i in range(height):\n",
    "        for j in range(width):\n",
    "            integral_image[i][j] = int(gray_clr[i][j])\n",
    "\n",
    "    for i in range(1, width):\n",
    "        integral_image[0][i] += integral_image[0][i - 1]\n",
    "\n",
    "    for j in range(1, height):\n",
    "        integral_image[j][0] += integral_image[j - 1][0]\n",
    "\n",
    "    for i in range(1, height):\n",
    "        for j in range(1, width):\n",
    "            integral_image[i][j] = integral_image[i - 1][j] + integral_image[i][j - 1] - integral_image[i - 1][j - 1] + gray_clr[i][j]\n",
    "\n",
    "    np.savetxt('integral_matrix.txt', integral_image, fmt='%d')\n",
    "    plt.plot(integral_image)\n",
    "    plt.savefig(\"static/integral_image.jpg\")  # Save image to 'static' folder\n",
    "    plt.close()\n",
    "    \n",
    "    return render_template('result.html', image_path=\"static/integral_image.jpg\")\n",
    "\n",
    "if __name__ == '__main__':\n",
    "    app.run(debug=True)"
   ]
  },
  {
   "cell_type": "code",
   "execution_count": null,
   "id": "b052a57b-400e-43e4-80a1-d6fe8a56a662",
   "metadata": {},
   "outputs": [],
   "source": []
  }
 ],
 "metadata": {
  "kernelspec": {
   "display_name": "Python 3 (ipykernel)",
   "language": "python",
   "name": "python3"
  },
  "language_info": {
   "codemirror_mode": {
    "name": "ipython",
    "version": 3
   },
   "file_extension": ".py",
   "mimetype": "text/x-python",
   "name": "python",
   "nbconvert_exporter": "python",
   "pygments_lexer": "ipython3",
   "version": "3.12.1"
  }
 },
 "nbformat": 4,
 "nbformat_minor": 5
}
